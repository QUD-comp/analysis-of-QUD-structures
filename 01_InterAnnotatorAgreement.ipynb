{
 "cells": [
  {
   "cell_type": "code",
   "execution_count": 58,
   "metadata": {},
   "outputs": [],
   "source": [
    "import pandas as pd\n",
    "import matplotlib.pyplot as plt\n",
    "import numpy as np\n",
    "\n",
    "# imports from self-written files\n",
    "from qud_utils import createTreeFromFile\n",
    "from tree_comparison import compareTwoTrees\n",
    "\n",
    "folderName = 'microText_QUD/'"
   ]
  },
  {
   "cell_type": "code",
   "execution_count": 59,
   "metadata": {},
   "outputs": [],
   "source": [
    "df = pd.read_csv('crossAnnotation.csv', names=['filename1', 'filename2'])"
   ]
  },
  {
   "cell_type": "code",
   "execution_count": 60,
   "metadata": {},
   "outputs": [],
   "source": [
    "df['tree1'] = [createTreeFromFile(folderName + filename) for filename in df['filename1']]\n",
    "df['tree2'] = [createTreeFromFile(folderName + filename) for filename in df['filename2']]"
   ]
  },
  {
   "cell_type": "code",
   "execution_count": 61,
   "metadata": {},
   "outputs": [
    {
     "name": "stdout",
     "output_type": "stream",
     "text": [
      "[[ 0.  0.  0.  0.  0.  0.  1.]\n",
      " [nan  0.  1.  0.  0.  0.  0.]\n",
      " [nan nan  0.  0.  0.  0.  0.]\n",
      " [nan nan nan  0.  0.  1.  0.]\n",
      " [nan nan nan nan  0.  0.  0.]\n",
      " [nan nan nan nan nan  1.  0.]\n",
      " [nan nan nan nan nan nan  1.]]\n",
      "[[ 0.  0.  0.  0.  1.  0.  0.  0.  1.]\n",
      " [nan  0.  0.  0.  0.  0.  0.  0.  0.]\n",
      " [nan nan  0.  0.  0.  0.  0.  0.  0.]\n",
      " [nan nan nan  0.  1.  0.  0.  0.  0.]\n",
      " [nan nan nan nan  1.  0.  0.  0.  0.]\n",
      " [nan nan nan nan nan  0.  0.  0.  1.]\n",
      " [nan nan nan nan nan nan  0.  0.  1.]\n",
      " [nan nan nan nan nan nan nan  0.  1.]\n",
      " [nan nan nan nan nan nan nan nan  1.]]\n",
      "[[ 0.  0.  0.  0.  0.  1.]\n",
      " [nan  0.  0.  0.  1.  0.]\n",
      " [nan nan  1.  0.  0.  0.]\n",
      " [nan nan nan  0.  1.  0.]\n",
      " [nan nan nan nan  0.  0.]\n",
      " [nan nan nan nan nan  1.]]\n",
      "[[ 0.  1.  0.  0.  1.]\n",
      " [nan  0.  0.  0.  0.]\n",
      " [nan nan  0.  0.  0.]\n",
      " [nan nan nan  0.  1.]\n",
      " [nan nan nan nan  1.]]\n",
      "[[ 0.  0.  0.  0.  1.]\n",
      " [nan  0.  0.  0.  1.]\n",
      " [nan nan  0.  0.  1.]\n",
      " [nan nan nan  0.  0.]\n",
      " [nan nan nan nan  1.]]\n",
      "[[ 1.  0.  0.  1.]\n",
      " [nan  1.  0.  1.]\n",
      " [nan nan  0.  1.]\n",
      " [nan nan nan  0.]]\n",
      "[[ 0.  1.  0.  0.  1.]\n",
      " [nan  0.  0.  0.  0.]\n",
      " [nan nan  1.  0.  0.]\n",
      " [nan nan nan  0.  1.]\n",
      " [nan nan nan nan  0.]]\n",
      "[[ 0.  0.  0.  0.  1.]\n",
      " [nan  1.  0.  0.  0.]\n",
      " [nan nan  0.  0.  1.]\n",
      " [nan nan nan  0.  1.]\n",
      " [nan nan nan nan  1.]]\n",
      "[[ 0.  0.  0.  0.  0.  1.]\n",
      " [nan  1.  0.  0.  0.  0.]\n",
      " [nan nan  1.  0.  0.  0.]\n",
      " [nan nan nan  1.  0.  0.]\n",
      " [nan nan nan nan  1.  0.]\n",
      " [nan nan nan nan nan  1.]]\n",
      "[[ 0.  0.  0.  1.]\n",
      " [nan  0.  0.  1.]\n",
      " [nan nan  0.  1.]\n",
      " [nan nan nan  1.]]\n",
      "[[ 0.  0.  0.  0.  1.]\n",
      " [nan  0.  1.  0.  0.]\n",
      " [nan nan  1.  0.  0.]\n",
      " [nan nan nan  0.  1.]\n",
      " [nan nan nan nan  0.]]\n",
      "[[ 0.  0.  0.  0.  1.]\n",
      " [nan  0.  0.  0.  1.]\n",
      " [nan nan  0.  0.  0.]\n",
      " [nan nan nan  0.  1.]\n",
      " [nan nan nan nan  1.]]\n",
      "[[ 0.  0.  0.  0.  0.  0.  1.]\n",
      " [nan  0.  0.  0.  0.  0.  1.]\n",
      " [nan nan  0.  0.  0.  0.  1.]\n",
      " [nan nan nan  0.  1.  0.  0.]\n",
      " [nan nan nan nan  1.  0.  0.]\n",
      " [nan nan nan nan nan  0.  1.]\n",
      " [nan nan nan nan nan nan  1.]]\n",
      "[[ 0.  0.  0.  0.  0.  1.]\n",
      " [nan  1.  0.  0.  0.  0.]\n",
      " [nan nan  0.  0.  0.  1.]\n",
      " [nan nan nan  0.  1.  0.]\n",
      " [nan nan nan nan  0.  0.]\n",
      " [nan nan nan nan nan  1.]]\n",
      "[[ 0.  0.  0.  0.  0.  0.  0.  0.  1.]\n",
      " [nan  0.  0.  0.  1.  0.  0.  0.  0.]\n",
      " [nan nan  0.  0.  0.  0.  0.  0.  0.]\n",
      " [nan nan nan  1.  0.  0.  0.  0.  0.]\n",
      " [nan nan nan nan  0.  0.  0.  0.  0.]\n",
      " [nan nan nan nan nan  0.  0.  0.  0.]\n",
      " [nan nan nan nan nan nan  0.  0.  0.]\n",
      " [nan nan nan nan nan nan nan  0.  1.]\n",
      " [nan nan nan nan nan nan nan nan  1.]]\n",
      "[[ 0.  0.  0.  0.  0.  0.  0.  0.  1.]\n",
      " [nan  0.  0.  0.  0.  0.  0.  0.  1.]\n",
      " [nan nan  0.  0.  0.  0.  0.  0.  1.]\n",
      " [nan nan nan  0.  0.  0.  0.  0.  1.]\n",
      " [nan nan nan nan  1.  0.  0.  0.  0.]\n",
      " [nan nan nan nan nan  0.  0.  0.  0.]\n",
      " [nan nan nan nan nan nan  0.  0.  0.]\n",
      " [nan nan nan nan nan nan nan  0.  0.]\n",
      " [nan nan nan nan nan nan nan nan  1.]]\n",
      "[[ 0.  0.  0.  0.  0.  1.]\n",
      " [nan  0.  0.  0.  0.  1.]\n",
      " [nan nan  0.  0.  0.  1.]\n",
      " [nan nan nan  0.  0.  0.]\n",
      " [nan nan nan nan  0.  0.]\n",
      " [nan nan nan nan nan  1.]]\n",
      "[[ 0.  0.  0.  0.  0.  0.  0.  1.]\n",
      " [nan  0.  0.  0.  0.  0.  0.  1.]\n",
      " [nan nan  0.  0.  0.  0.  0.  0.]\n",
      " [nan nan nan  0.  0.  0.  0.  0.]\n",
      " [nan nan nan nan  0.  0.  0.  1.]\n",
      " [nan nan nan nan nan  0.  0.  0.]\n",
      " [nan nan nan nan nan nan  0.  0.]\n",
      " [nan nan nan nan nan nan nan  1.]]\n",
      "[[ 0.  0.  0.  0.  1.]\n",
      " [nan  0.  0.  0.  1.]\n",
      " [nan nan  0.  0.  1.]\n",
      " [nan nan nan  0.  0.]\n",
      " [nan nan nan nan  1.]]\n"
     ]
    }
   ],
   "source": [
    "df['CrossAnnotatorAgreement'] = [compareTwoTrees(tree1, tree2) for tree1, tree2 in zip(df['tree1'], df['tree2'])]"
   ]
  },
  {
   "cell_type": "code",
   "execution_count": 62,
   "metadata": {},
   "outputs": [
    {
     "data": {
      "text/plain": [
       "0.4091282092444715"
      ]
     },
     "execution_count": 62,
     "metadata": {},
     "output_type": "execute_result"
    }
   ],
   "source": [
    "df['CrossAnnotatorAgreement'].mean()"
   ]
  },
  {
   "cell_type": "code",
   "execution_count": 63,
   "metadata": {},
   "outputs": [
    {
     "data": {
      "image/png": "[encoded data removed]",
      "text/plain": [
       "<matplotlib.figure.Figure at 0x7f9fc59c6470>"
      ]
     },
     "metadata": {},
     "output_type": "display_data"
    }
   ],
   "source": [
    "bins = np.linspace(-1, 1, 20)\n",
    "plt.hist(df['CrossAnnotatorAgreement'], bins, label='Cross Annotator Agreement')\n",
    "plt.xlabel(\"Inter Annotator Agreement\")\n",
    "plt.ylabel(\"Number of Samples\")\n",
    "plt.show()"
   ]
  }
 ],
 "metadata": {
  "kernelspec": {
   "display_name": "Python 3",
   "language": "python",
   "name": "python3"
  },
  "language_info": {
   "codemirror_mode": {
    "name": "ipython",
    "version": 3
   },
   "file_extension": ".py",
   "mimetype": "text/x-python",
   "name": "python",
   "nbconvert_exporter": "python",
   "pygments_lexer": "ipython3",
   "version": "3.6.4"
  }
 },
 "nbformat": 4,
 "nbformat_minor": 2
}
