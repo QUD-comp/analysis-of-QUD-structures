{
 "cells": [
  {
   "cell_type": "code",
   "execution_count": 12,
   "metadata": {},
   "outputs": [],
   "source": [
    "from treelib import Node, Tree\n",
    "\n",
    "#create tree object from an annotation file\n",
    "#Sample Annotation:\n",
    "#\n",
    "#\n",
    "# Q0{What is the way things are?}\n",
    "# >Q1{###Q_1###}\n",
    "# >>A1.1{###Answer_1’###}\n",
    "# >>Q2{###Question_2###}\n",
    "# >>>A2.1{###Answer_2’###}\n",
    "# >>>A2.2{###Answer_2’’###}\n",
    "# >>Q3{###Question_3###}\n",
    "# >>>A3{###Answer_3###}\n",
    "# >>>Q4{###Question_4###}\n",
    "# >>>>A4{###Answer_4###}\n",
    "# >>A1.2{###Answer_1’’###}\n",
    "#\n",
    "def createTreeFromFile(filename):\n",
    "    tree = Tree()\n",
    "    with open (filename, \"r\") as myfile:\n",
    "        data=myfile.readlines()\n",
    "\n",
    "    level_dict = dict()\n",
    "    node_no=0\n",
    "    node_id=getID(data[0])\n",
    "    tree.create_node(getQuestion(data[0]), node_id, data=tree_node(getType(data[0]), node_no))\n",
    "    level_dict[0] = node_id\n",
    "    for node in data[1:]:\n",
    "        node_no = node_no+1\n",
    "        level = getLevel(node)\n",
    "        text = getQuestion(node)\n",
    "        node_type = getType(node)\n",
    "        node_id=getID(node)\n",
    "        tree.create_node(text,node_id,parent=level_dict[level-1], data=tree_node(node_type, node_no))\n",
    "        level_dict[level] = node_id\n",
    "\n",
    "    tree.show(key=lambda x: x.data.node_no)\n",
    "\n",
    "    leafNodeIDs = [leaf.identifier for leaf in tree.leaves()]\n",
    "    assert all(leafNode.startswith(\"A\") for leafNode in leafNodeIDs), \"all leaf nodes should be Answers and no Questions: \"+ str(leafNodeIDs)\n",
    "    internalNodeIDs = []\n",
    "    for node in tree.nodes.keys():\n",
    "        if not tree.get_node(node).is_leaf():\n",
    "            internalNodeIDs.append(node)\n",
    "    assert all(internalNode.startswith(\"Q\") for internalNode in internalNodeIDs), \"all internal nodes should be Questions and no Answers: \"+ str(internalNodeIDs)\n",
    "\n",
    "    return tree"
   ]
  },
  {
   "cell_type": "code",
   "execution_count": 1,
   "metadata": {},
   "outputs": [],
   "source": [
    "import re\n",
    "def getQuestion(string):\n",
    "    p = re.compile(\".*{(.*)}.*\")\n",
    "    return p.match(string).group(1)\n",
    "\n",
    "def getLevel(string):\n",
    "    p = re.compile(\">*\")\n",
    "    return p.match(string).span()[1]-p.match(string).span()[0]\n",
    "\n",
    "def getID(string):\n",
    "    p = re.compile(\">*(.*){\")\n",
    "    return p.match(string).group(1)\n",
    "\n",
    "def getType(string):\n",
    "    p = re.compile(\">*(A|Q*)\")\n",
    "    return p.match(string).group(1)"
   ]
  },
  {
   "cell_type": "code",
   "execution_count": 2,
   "metadata": {},
   "outputs": [],
   "source": [
    "class tree_node(object):\n",
    "    def __init__(self, node_type, node_no):\n",
    "        self.node_type = node_type\n",
    "        self.node_no = node_no"
   ]
  },
  {
   "cell_type": "code",
   "execution_count": 13,
   "metadata": {},
   "outputs": [
    {
     "name": "stdout",
     "output_type": "stream",
     "text": [
      "What is the way things are?\n",
      "└── ###Q_1###\n",
      "    ├── ###Answer_1’###\n",
      "    ├── ###Question_2###\n",
      "    │   ├── ###Answer_2’###\n",
      "    │   └── ###Answer_2’’###\n",
      "    ├── ###Question_3###\n",
      "    │   ├── ###Answer_3###\n",
      "    │   └── ###Question_4###\n",
      "    │       └── ###Answer_4###\n",
      "    └── ###Answer_1’’###\n",
      "\n"
     ]
    },
    {
     "data": {
      "text/plain": [
       "<treelib.tree.Tree at 0x7f3a0032d198>"
      ]
     },
     "execution_count": 13,
     "metadata": {},
     "output_type": "execute_result"
    }
   ],
   "source": [
    "createTreeFromFile(\"sample.txt\")"
   ]
  }
 ],
 "metadata": {
  "kernelspec": {
   "display_name": "Python 3",
   "language": "python",
   "name": "python3"
  },
  "language_info": {
   "codemirror_mode": {
    "name": "ipython",
    "version": 3
   },
   "file_extension": ".py",
   "mimetype": "text/x-python",
   "name": "python",
   "nbconvert_exporter": "python",
   "pygments_lexer": "ipython3",
   "version": "3.6.4"
  }
 },
 "nbformat": 4,
 "nbformat_minor": 2
}
