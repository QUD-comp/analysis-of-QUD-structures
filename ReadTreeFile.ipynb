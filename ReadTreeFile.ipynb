{
 "cells": [
  {
   "cell_type": "code",
   "execution_count": 15,
   "metadata": {},
   "outputs": [],
   "source": [
    "from treelib import Node, Tree\n",
    "\n",
    "#create tree object from an annotation file\n",
    "#Sample Annotation:\n",
    "#\n",
    "#\n",
    "# What is the way things are?\n",
    "# >###Q_1###\n",
    "# >>###Answer_1’###\n",
    "# >>###Question_2###\n",
    "# >>>###Answer_2’###\n",
    "# >>>###Answer_2’’###\n",
    "# >>###Question_3###\n",
    "# >>>###Answer_3###\n",
    "# >>>###Question_4###\n",
    "# >>>>###Answer_4###\n",
    "# >>###Answer_1’’###\n",
    "#\n",
    "def createTreeFromFile(filename):\n",
    "    tree = Tree()\n",
    "    with open (filename, \"r\") as myfile:\n",
    "        data=myfile.readlines()\n",
    "    level_dict = dict()\n",
    "    node_no=0\n",
    "    tree.create_node(getText(data[0]), node_no)\n",
    "    level_dict[0] = node_no\n",
    "    for node in data[1:]:\n",
    "        node_no = node_no+1\n",
    "        level = getLevel(node)\n",
    "        \n",
    "        text = getText(node)\n",
    "        node_type = getType(node)\n",
    "        tree.create_node(text,node_no,parent=level_dict[level-1])\n",
    "        level_dict[level] = node_no\n",
    "\n",
    "    tree.show(key=lambda x: x.identifier)\n",
    "\n",
    "    return tree"
   ]
  },
  {
   "cell_type": "code",
   "execution_count": 16,
   "metadata": {},
   "outputs": [],
   "source": [
    "import re\n",
    "def getText(string):\n",
    "    p = re.compile(\">*(.*)\\n\")\n",
    "    return p.match(string).group(1)\n",
    "\n",
    "def getLevel(string):\n",
    "    p = re.compile(\">*\")\n",
    "    return p.match(string).span()[1]-p.match(string).span()[0]\n",
    "\n",
    "def getType(string):\n",
    "    p = re.compile(\">*(A|Q*)\")\n",
    "    return p.match(string).group(1)"
   ]
  },
  {
   "cell_type": "code",
   "execution_count": 23,
   "metadata": {},
   "outputs": [
    {
     "name": "stdout",
     "output_type": "stream",
     "text": [
      "What is the way things are?\n",
      "├── How are you? How does that come about?\n",
      "│   └── Mr. Snowden, did you sleep well the last couple of nights?\n",
      "└── Why am I asking this?\n",
      "    ├── Because, I was reading that you asked for a kind of police protection.\n",
      "    ├── Why did you ask for police protection?\n",
      "    └── Are there any threats?\n",
      "        ├── Are there any threats?\n",
      "        └── There are significant threats but I sleep very well.\n",
      "            ├── What (would be an example of such a threat) kind of threat?\n",
      "            ├── There was an article that came out in an online outlet called BuzzFeed\n",
      "            │   ├── What kind of article?\n",
      "            │   └── where they interviewed officials from the Pentagon, from the National Security Agency\n",
      "            │       ├── How did they (get them to talk) interview them?\n",
      "            │       ├── and they gave them anonymity to be able to say what they wanted,\n",
      "            │       ├── So what did they say?\n",
      "            │       ├── and what they told the reporter was that they wanted to murder me.\n",
      "            │       │   ├── Who said that?\n",
      "            │       │   ├── These individuals, and these are acting government officials,\n",
      "            │       │   ├── What did they say, how would they want to murder me?\n",
      "            │       │   ├── they said they would be happy, they would love to put a bullet in my head,\n",
      "            │       │   ├── In what other way would they like to murder me?\n",
      "            │       │   └── to poison me as I was returning from the grocery store,\n",
      "            │       │       ├── What would be the result of being poisoned like that?\n",
      "            │       │       └── and have me die in the shower.\n",
      "            │       ├── [COUNTERFACTUAL]?\n",
      "            │       ├── But, fortunately, you are still alive with us.\n",
      "            │       ├── Are you not?\n",
      "            │       ├── Right, but I’m still alive,\n",
      "            │       ├── And what else can be said about your wellbeing?\n",
      "            │       └── and I don’t lose sleep\n",
      "            │           ├── Why is that?\n",
      "            │           └── because I’ve done what I feel I needed to do.\n",
      "            │               ├── Why did you feel that way? \n",
      "            │               └── It was the right thing to do.\n",
      "            ├── Do those threats affect you in any way?\n",
      "            └── And, I’m not going to be afraid.\n",
      "\n"
     ]
    },
    {
     "data": {
      "text/plain": [
       "<treelib.tree.Tree at 0x7f27c0a1b860>"
      ]
     },
     "execution_count": 23,
     "metadata": {},
     "output_type": "execute_result"
    }
   ],
   "source": [
    "createTreeFromFile(\"Snowden/nguyen-snowden.txt\")"
   ]
  },
  {
   "cell_type": "code",
   "execution_count": null,
   "metadata": {},
   "outputs": [],
   "source": []
  },
  {
   "cell_type": "code",
   "execution_count": null,
   "metadata": {},
   "outputs": [],
   "source": []
  }
 ],
 "metadata": {
  "kernelspec": {
   "display_name": "Python 3",
   "language": "python",
   "name": "python3"
  },
  "language_info": {
   "codemirror_mode": {
    "name": "ipython",
    "version": 3
   },
   "file_extension": ".py",
   "mimetype": "text/x-python",
   "name": "python",
   "nbconvert_exporter": "python",
   "pygments_lexer": "ipython3",
   "version": "3.6.4"
  }
 },
 "nbformat": 4,
 "nbformat_minor": 2
}
