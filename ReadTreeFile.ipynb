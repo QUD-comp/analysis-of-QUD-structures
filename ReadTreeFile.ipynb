{
 "cells": [
  {
   "cell_type": "code",
   "execution_count": 37,
   "metadata": {},
   "outputs": [],
   "source": [
    "from treelib import Node, Tree\n",
    "\n",
    "#create tree object from an annotation file\n",
    "#Sample Annotation:\n",
    "#\n",
    "#\n",
    "# What is the way things are?\n",
    "# >###Q_1###\n",
    "# >>###Answer_1’###\n",
    "# >>###Question_2###\n",
    "# >>>###Answer_2’###\n",
    "# >>>###Answer_2’’###\n",
    "# >>###Question_3###\n",
    "# >>>###Answer_3###\n",
    "# >>>###Question_4###\n",
    "# >>>>###Answer_4###\n",
    "# >>###Answer_1’’###\n",
    "#\n",
    "def createTreeFromFile(filename):\n",
    "    tree = Tree()\n",
    "    with open (filename, \"r\") as myfile:\n",
    "        data=myfile.readlines()\n",
    "    level_dict = dict()\n",
    "    node_no=0\n",
    "    tree.create_node(getText(data[0]), node_no)\n",
    "    level_dict[0] = node_no\n",
    "    for node in data[1:]:\n",
    "        node_no = node_no+1\n",
    "        level = getLevel(node)\n",
    "        text = getText(node)\n",
    "        node_type = getType(node)\n",
    "        tree.create_node(text,node_no,parent=level_dict[level-1])\n",
    "        level_dict[level] = node_no\n",
    "\n",
    "    tree.show(key=lambda x: x.identifier)\n",
    "\n",
    "    return tree"
   ]
  },
  {
   "cell_type": "code",
   "execution_count": 38,
   "metadata": {},
   "outputs": [],
   "source": [
    "import re\n",
    "def getText(string):\n",
    "    p = re.compile(\">*(.*)\\n\")\n",
    "    return p.match(string).group(1)\n",
    "\n",
    "def getLevel(string):\n",
    "    p = re.compile(\">*\")\n",
    "    return p.match(string).span()[1]-p.match(string).span()[0]\n",
    "\n",
    "def getType(string):\n",
    "    p = re.compile(\">*(A|Q*)\")\n",
    "    return p.match(string).group(1)"
   ]
  },
  {
   "cell_type": "code",
   "execution_count": 39,
   "metadata": {},
   "outputs": [
    {
     "name": "stdout",
     "output_type": "stream",
     "text": [
      "What is the way things are?\n",
      "└── ###Q_1###\n",
      "    ├── ###Answer_1’###\n",
      "    ├── ###Question_2###\n",
      "    │   ├── ###Answer_2’###\n",
      "    │   └── ###Answer_2’’###\n",
      "    ├── ###Question_3###\n",
      "    │   ├── ###Answer_3###\n",
      "    │   └── ###Question_4###\n",
      "    │       └── ###Answer_4###\n",
      "    └── ###Answer_1’’###\n",
      "\n"
     ]
    },
    {
     "data": {
      "text/plain": [
       "<treelib.tree.Tree at 0x7fb8282ffb00>"
      ]
     },
     "execution_count": 39,
     "metadata": {},
     "output_type": "execute_result"
    }
   ],
   "source": [
    "createTreeFromFile(\"sample.txt\")"
   ]
  }
 ],
 "metadata": {
  "kernelspec": {
   "display_name": "Python 3",
   "language": "python",
   "name": "python3"
  },
  "language_info": {
   "codemirror_mode": {
    "name": "ipython",
    "version": 3
   },
   "file_extension": ".py",
   "mimetype": "text/x-python",
   "name": "python",
   "nbconvert_exporter": "python",
   "pygments_lexer": "ipython3",
   "version": "3.6.4"
  }
 },
 "nbformat": 4,
 "nbformat_minor": 2
}
