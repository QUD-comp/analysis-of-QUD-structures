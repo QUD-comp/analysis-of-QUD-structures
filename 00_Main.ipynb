{
 "cells": [
  {
   "cell_type": "markdown",
   "metadata": {},
   "source": [
    "Imports"
   ]
  },
  {
   "cell_type": "code",
   "execution_count": 1,
   "metadata": {},
   "outputs": [],
   "source": [
    "from qud_utils import createTreeFromFile, checkBigQuestion, checkLeaves\n",
    "from tree_comparison import compareTwoTrees\n",
    "from questions import getQuestions, getQuestionType, getQUDStack, createQuestionDF\n",
    "from q_givenness import getUnknownNouns, getUnknownVerbs\n",
    "from maximized_q_anaphoricity import getGivenNouns, getGivenVerbs\n",
    "\n",
    "import os\n",
    "import pandas as pd\n",
    "import numpy as np\n",
    "import matplotlib.pyplot as plt\n",
    "import spacy"
   ]
  },
  {
   "cell_type": "markdown",
   "metadata": {},
   "source": [
    "# Functions for analysing qud Trees"
   ]
  },
  {
   "cell_type": "code",
   "execution_count": 2,
   "metadata": {},
   "outputs": [],
   "source": [
    "def getTextnameFromQudName(qudFilename):\n",
    "    return \"_\".join(qudFilename.split(\".\")[0].split(\"_\")[:2]) + \".txt\""
   ]
  },
  {
   "cell_type": "code",
   "execution_count": 3,
   "metadata": {},
   "outputs": [],
   "source": [
    "def maxDepth(qudTree):\n",
    "    return max([len(path) for path in qudTree.paths_to_leaves()])\n",
    "\n",
    "def minDepth(qudTree):\n",
    "    return min([len(path) for path in qudTree.paths_to_leaves()])\n",
    "\n",
    "def avgDepth(qudTree):\n",
    "    pathList = [len(path) for path in qudTree.paths_to_leaves()]\n",
    "    return sum(pathList)/len(pathList)\n",
    "    \n",
    "def lenQUD(qudTree):\n",
    "    return len(qudTree.leaves())"
   ]
  },
  {
   "cell_type": "code",
   "execution_count": 4,
   "metadata": {
    "scrolled": false
   },
   "outputs": [
    {
     "data": {
      "text/html": [
       "<div>\n",
       "<style scoped>\n",
       "    .dataframe tbody tr th:only-of-type {\n",
       "        vertical-align: middle;\n",
       "    }\n",
       "\n",
       "    .dataframe tbody tr th {\n",
       "        vertical-align: top;\n",
       "    }\n",
       "\n",
       "    .dataframe thead th {\n",
       "        text-align: right;\n",
       "    }\n",
       "</style>\n",
       "<table border=\"1\" class=\"dataframe\">\n",
       "  <thead>\n",
       "    <tr style=\"text-align: right;\">\n",
       "      <th></th>\n",
       "      <th>filename</th>\n",
       "      <th>textname</th>\n",
       "      <th>qudTree</th>\n",
       "      <th>maxDepth</th>\n",
       "      <th>minDepth</th>\n",
       "      <th>avgDepth</th>\n",
       "      <th>lenQUD</th>\n",
       "    </tr>\n",
       "  </thead>\n",
       "  <tbody>\n",
       "    <tr>\n",
       "      <th>0</th>\n",
       "      <td>micro_b021_andrew.txt</td>\n",
       "      <td>micro_b021.txt</td>\n",
       "      <td>[Node(tag=What is the way things are?, identif...</td>\n",
       "      <td>6</td>\n",
       "      <td>3</td>\n",
       "      <td>4.5</td>\n",
       "      <td>4</td>\n",
       "    </tr>\n",
       "    <tr>\n",
       "      <th>1</th>\n",
       "      <td>micro_b053_tatjana.txt</td>\n",
       "      <td>micro_b053.txt</td>\n",
       "      <td>[Node(tag=What is the way things are?, identif...</td>\n",
       "      <td>5</td>\n",
       "      <td>3</td>\n",
       "      <td>4.0</td>\n",
       "      <td>6</td>\n",
       "    </tr>\n",
       "    <tr>\n",
       "      <th>2</th>\n",
       "      <td>micro_b010_johann.txt</td>\n",
       "      <td>micro_b010.txt</td>\n",
       "      <td>[Node(tag=What is the way things are?, identif...</td>\n",
       "      <td>5</td>\n",
       "      <td>3</td>\n",
       "      <td>4.0</td>\n",
       "      <td>5</td>\n",
       "    </tr>\n",
       "    <tr>\n",
       "      <th>3</th>\n",
       "      <td>micro_b061_luise.txt</td>\n",
       "      <td>micro_b061.txt</td>\n",
       "      <td>[Node(tag=What is the way things are?, identif...</td>\n",
       "      <td>7</td>\n",
       "      <td>4</td>\n",
       "      <td>5.5</td>\n",
       "      <td>4</td>\n",
       "    </tr>\n",
       "    <tr>\n",
       "      <th>4</th>\n",
       "      <td>micro_b006_johann.txt</td>\n",
       "      <td>micro_b006.txt</td>\n",
       "      <td>[Node(tag=What is the way things are?, identif...</td>\n",
       "      <td>5</td>\n",
       "      <td>3</td>\n",
       "      <td>4.0</td>\n",
       "      <td>5</td>\n",
       "    </tr>\n",
       "  </tbody>\n",
       "</table>\n",
       "</div>"
      ],
      "text/plain": [
       "                 filename        textname  \\\n",
       "0   micro_b021_andrew.txt  micro_b021.txt   \n",
       "1  micro_b053_tatjana.txt  micro_b053.txt   \n",
       "2   micro_b010_johann.txt  micro_b010.txt   \n",
       "3    micro_b061_luise.txt  micro_b061.txt   \n",
       "4   micro_b006_johann.txt  micro_b006.txt   \n",
       "\n",
       "                                             qudTree  maxDepth  minDepth  \\\n",
       "0  [Node(tag=What is the way things are?, identif...         6         3   \n",
       "1  [Node(tag=What is the way things are?, identif...         5         3   \n",
       "2  [Node(tag=What is the way things are?, identif...         5         3   \n",
       "3  [Node(tag=What is the way things are?, identif...         7         4   \n",
       "4  [Node(tag=What is the way things are?, identif...         5         3   \n",
       "\n",
       "   avgDepth  lenQUD  \n",
       "0       4.5       4  \n",
       "1       4.0       6  \n",
       "2       4.0       5  \n",
       "3       5.5       4  \n",
       "4       4.0       5  "
      ]
     },
     "metadata": {},
     "output_type": "display_data"
    }
   ],
   "source": [
    "df = pd.DataFrame()\n",
    "\n",
    "qudDirectory = \"microText_QUD/\"\n",
    "microtextDirectory = \"microText/\"\n",
    "filenames = os.listdir(qudDirectory)\n",
    "\n",
    "df[\"filename\"] = filenames\n",
    "df[\"textname\"] = [getTextnameFromQudName(qudFilename) for qudFilename in filenames]\n",
    "df[\"qudTree\"] = [createTreeFromFile(qudDirectory + filename) for filename in filenames]\n",
    "\n",
    "for tree in df[\"qudTree\"]:\n",
    "    assert checkBigQuestion(tree), \"The big question is not \\' What is the way things are\\'\"\n",
    "    \n",
    "for tree, microTextFilename in zip(df[\"qudTree\"], df[\"textname\"]):\n",
    "    assert checkLeaves(microtextDirectory + microTextFilename, tree), \"The leaves do not represent the text segments\"\n",
    "\n",
    "df[\"maxDepth\"] = [maxDepth(qudTree) for qudTree in df[\"qudTree\"]]\n",
    "df[\"minDepth\"] = [minDepth(qudTree) for qudTree in df[\"qudTree\"]]\n",
    "df[\"avgDepth\"] = [avgDepth(qudTree) for qudTree in df[\"qudTree\"]]\n",
    "df[\"lenQUD\"] = [lenQUD(qudTree) for qudTree in df[\"qudTree\"]]\n",
    "display(df.head())"
   ]
  },
  {
   "cell_type": "code",
   "execution_count": null,
   "metadata": {},
   "outputs": [
    {
     "data": {
      "text/plain": [
       "6.157894736842105"
      ]
     },
     "execution_count": 5,
     "metadata": {},
     "output_type": "execute_result"
    }
   ],
   "source": [
    "df[\"lenQUD\"].mean()"
   ]
  },
  {
   "cell_type": "markdown",
   "metadata": {},
   "source": [
    "# Analyse Questions"
   ]
  },
  {
   "cell_type": "code",
   "execution_count": null,
   "metadata": {
    "scrolled": true
   },
   "outputs": [
    {
     "name": "stdout",
     "output_type": "stream",
     "text": [
      "Should there be tuition fees for studying in Germany?\n",
      "Should state health insurance cover complementary medicine?\n",
      "Should alternative treatments be subsidized?\n",
      "Should penalties for dog dirt be higher?\n",
      "Are higher penalties pointless in all cases?\n",
      "Does Germany have the death penalty?\n",
      "Does anything speak against the reason that a murderer has already decided on the life or death of another person?\n",
      "Should intelligence services be regulated more tightly by parliament?\n",
      "Are the disclosures of Edward Snowden relevant to Germany?\n",
      "Should everyone contribute to the funding of public broadcasters?\n",
      "Is it fair of landlords to raise the rent when a new tenant moves in?\n",
      "Could an increase in the rent be justified?\n",
      "Should the morning-after pill be sold in pharmacies?\n",
      "Are pharmacists qualified enough to sell the morning-after pill?\n",
      "Is the quality of the public channels good enough to be paid for?\n",
      "Has the medicine been effective?\n",
      "Will it bring damage to the pharma industry?\n",
      "Will it bring damage to the conventional medicine?\n",
      "Should the retirement age be lowered?\n",
      "Should complementary medicine be covered by insurance companies?\n",
      "Are there exceptions?\n",
      "Is there usually proof behind that?\n",
      "Does complementart medicine help the patients?\n",
      "Should we separate our rubbish?\n",
      "Is a licensing fee needed?\n",
      "Does everyone profit from the licensing fee?\n",
      "Does the licensing fee have a positive impact?\n",
      "Is it good to pay the fee?\n",
      "Are there any problems?\n",
      "Do these practices and approaches work?\n",
      "Are the practitioners to be questioned?\n",
      "Are rent prices regulated?\n",
      "Should the owners of flats therefore be allowed to adjust rent prices?\n",
      "Should health insurance companies cover treatment in complementary medicine?\n",
      "Are there exceptions from this?\n",
      "Has the promised effect and its medical benefit been concretely proven for many complementary treatments?\n",
      "Is dog dirt a problem?\n",
      "Should stores be open on Sundays and holidays?\n",
      "Should humans rule over life or death?\n",
      "Do courts make mistakes?\n",
      "Can criminals change?\n",
      "Should the change be accepted?\n"
     ]
    }
   ],
   "source": [
    "QuestionDF = pd.DataFrame()\n",
    "\n",
    "for tree in df[\"qudTree\"]:\n",
    "    newQuestionDF = createQuestionDF(tree)\n",
    "    QuestionDF = pd.concat([QuestionDF,newQuestionDF], ignore_index=True)"
   ]
  },
  {
   "cell_type": "code",
   "execution_count": null,
   "metadata": {
    "scrolled": true
   },
   "outputs": [],
   "source": [
    "display(QuestionDF.head(1000))"
   ]
  },
  {
   "cell_type": "markdown",
   "metadata": {},
   "source": [
    "## Question Types"
   ]
  },
  {
   "cell_type": "code",
   "execution_count": null,
   "metadata": {},
   "outputs": [],
   "source": [
    "QuestionDF[\"type\"].value_counts()"
   ]
  },
  {
   "cell_type": "code",
   "execution_count": null,
   "metadata": {},
   "outputs": [],
   "source": [
    "QuestionDF[\"type\"].count()"
   ]
  },
  {
   "cell_type": "markdown",
   "metadata": {},
   "source": [
    "## Q-Givenness"
   ]
  },
  {
   "cell_type": "code",
   "execution_count": null,
   "metadata": {},
   "outputs": [],
   "source": [
    "nlp = spacy.load('en')"
   ]
  },
  {
   "cell_type": "code",
   "execution_count": null,
   "metadata": {},
   "outputs": [],
   "source": [
    "QuestionDF[\"unknownNouns\"] = [getUnknownNouns(question, text, underneathText, nlp) for question, text, underneathText in zip(QuestionDF[\"question\"], QuestionDF[\"priviousTexts\"], QuestionDF[\"underneathTexts\"])]"
   ]
  },
  {
   "cell_type": "code",
   "execution_count": null,
   "metadata": {},
   "outputs": [],
   "source": [
    "QuestionDF[\"unknownVerbs\"] = [getUnknownVerbs(question, text, underneathText, nlp) for question, text, underneathText in zip(QuestionDF[\"question\"], QuestionDF[\"priviousTexts\"], QuestionDF[\"underneathTexts\"])]"
   ]
  },
  {
   "cell_type": "code",
   "execution_count": null,
   "metadata": {},
   "outputs": [],
   "source": [
    "QuestionDF[\"unknownMaterial\"] = [unknownVerbs + unknownNouns for unknownVerbs, unknownNouns in zip(QuestionDF[\"unknownVerbs\"].tolist(), QuestionDF[\"unknownNouns\"].tolist())]"
   ]
  },
  {
   "cell_type": "code",
   "execution_count": null,
   "metadata": {},
   "outputs": [],
   "source": [
    "QuestionDF[\"unknownNouns\"].value_counts()"
   ]
  },
  {
   "cell_type": "code",
   "execution_count": null,
   "metadata": {},
   "outputs": [],
   "source": [
    "QuestionDF[\"unknownVerbs\"].value_counts()"
   ]
  },
  {
   "cell_type": "code",
   "execution_count": null,
   "metadata": {},
   "outputs": [],
   "source": [
    "QuestionDF[\"unknownMaterial\"].value_counts()"
   ]
  },
  {
   "cell_type": "markdown",
   "metadata": {},
   "source": [
    "## Maximized Q-Anaphoricity"
   ]
  },
  {
   "cell_type": "code",
   "execution_count": null,
   "metadata": {},
   "outputs": [],
   "source": [
    "QuestionDF[\"givenNounsCount\"] = [getGivenNouns(question, text, underneathText, nlp)[0] for question, text, underneathText in zip(QuestionDF[\"question\"], QuestionDF[\"priviousTexts\"], QuestionDF[\"underneathTexts\"])]\n",
    "QuestionDF[\"givenNouns\"] = [getGivenNouns(question, text, underneathText, nlp)[1] for question, text, underneathText in zip(QuestionDF[\"question\"], QuestionDF[\"priviousTexts\"], QuestionDF[\"underneathTexts\"])]\n",
    "    \n",
    "QuestionDF[\"givenVerbsCount\"] = [getGivenVerbs(question, text, underneathText, nlp)[0] for question, text, underneathText in zip(QuestionDF[\"question\"], QuestionDF[\"priviousTexts\"], QuestionDF[\"underneathTexts\"])]\n",
    "QuestionDF[\"givenVerbs\"] = [getGivenVerbs(question, text, underneathText, nlp)[1] for question, text, underneathText in zip(QuestionDF[\"question\"], QuestionDF[\"priviousTexts\"], QuestionDF[\"underneathTexts\"])]"
   ]
  },
  {
   "cell_type": "code",
   "execution_count": null,
   "metadata": {},
   "outputs": [],
   "source": [
    "grouped = QuestionDF[QuestionDF[\"question\"] != \"What is the way things are?\"].groupby(['underneathTexts', 'priviousTexts'])\n",
    "grouped.head()"
   ]
  },
  {
   "cell_type": "code",
   "execution_count": null,
   "metadata": {},
   "outputs": [],
   "source": [
    "# print all questions that have a partner that covers the same span\n",
    "columns = [\"question1\", \"question2\", \"priviousTexts\", \"underneathTexts\", \"type1\", \"type2\", \"givenNounsCount1\", \"givenNounsCounts2\", \"givenNouns1\",\"givenNouns2\", \"givenVerbsCount\", \"givenVerbs\"]\n",
    "ComparisonDF = pd.DataFrame(columns=columns)\n",
    "\n",
    "for name, group in grouped:\n",
    "    if (len(group)==2):\n",
    "        print(\"========\")\n",
    "        print(name)\n",
    "        display(group.head())"
   ]
  },
  {
   "cell_type": "code",
   "execution_count": null,
   "metadata": {},
   "outputs": [],
   "source": [
    "ComparisonDF.head()"
   ]
  },
  {
   "cell_type": "code",
   "execution_count": null,
   "metadata": {},
   "outputs": [],
   "source": [
    "for n in range(1,3):\n",
    "    "
   ]
  }
 ],
 "metadata": {
  "kernelspec": {
   "display_name": "Python 3",
   "language": "python",
   "name": "python3"
  },
  "language_info": {
   "codemirror_mode": {
    "name": "ipython",
    "version": 3
   },
   "file_extension": ".py",
   "mimetype": "text/x-python",
   "name": "python",
   "nbconvert_exporter": "python",
   "pygments_lexer": "ipython3",
   "version": "3.6.4"
  }
 },
 "nbformat": 4,
 "nbformat_minor": 2
}
