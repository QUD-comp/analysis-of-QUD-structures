{
 "cells": [
  {
   "cell_type": "code",
   "execution_count": 6,
   "metadata": {},
   "outputs": [],
   "source": [
    "from qud_utils import createTreeFromFile, tree2XML\n",
    "import os\n",
    "import pandas as pd\n",
    "import re\n",
    "\n",
    "df = pd.DataFrame()\n",
    "\n",
    "qudDirectory = \"microText_QUD/\"\n",
    "xmlDirectory = \"microtext_XML/\"\n",
    "filenames = os.listdir(qudDirectory)\n",
    "\n",
    "for filename in filenames:\n",
    "    tree = createTreeFromFile(qudDirectory + filename)\n",
    "    p = re.compile(\"(.*).txt\")\n",
    "    xmlfilename= p.match(filename).group(1) +'.xml'\n",
    "    \n",
    "    tree2XML(tree, xmlDirectory + xmlfilename)"
   ]
  },
  {
   "cell_type": "code",
   "execution_count": null,
   "metadata": {},
   "outputs": [],
   "source": []
  }
 ],
 "metadata": {
  "kernelspec": {
   "display_name": "Python 3",
   "language": "python",
   "name": "python3"
  },
  "language_info": {
   "codemirror_mode": {
    "name": "ipython",
    "version": 3
   },
   "file_extension": ".py",
   "mimetype": "text/x-python",
   "name": "python",
   "nbconvert_exporter": "python",
   "pygments_lexer": "ipython3",
   "version": "3.6.4"
  }
 },
 "nbformat": 4,
 "nbformat_minor": 2
}
